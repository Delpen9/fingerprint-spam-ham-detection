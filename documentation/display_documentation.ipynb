{
 "cells": [
  {
   "cell_type": "code",
   "execution_count": 0,
   "metadata": {
    "application/vnd.databricks.v1+cell": {
     "cellMetadata": {
      "byteLimit": 2048000,
      "rowLimit": 10000
     },
     "inputWidgets": {},
     "nuid": "d0f38c9a-d770-4868-8b98-a2da3180d5d0",
     "showTitle": false,
     "tableResultSettingsMap": {},
     "title": ""
    }
   },
   "outputs": [],
   "source": [
    "%pip install mermaid-py"
   ]
  },
  {
   "cell_type": "code",
   "execution_count": 0,
   "metadata": {
    "application/vnd.databricks.v1+cell": {
     "cellMetadata": {
      "byteLimit": 2048000,
      "rowLimit": 10000
     },
     "inputWidgets": {},
     "nuid": "98555c8f-14ec-40d1-9cea-93a846930320",
     "showTitle": false,
     "tableResultSettingsMap": {},
     "title": ""
    }
   },
   "outputs": [],
   "source": [
    "import pandas as pd\n",
    "import numpy as np\n",
    "import mermaid as md\n",
    "\n",
    "from IPython.core.display import display, HTML"
   ]
  },
  {
   "cell_type": "code",
   "execution_count": 0,
   "metadata": {
    "application/vnd.databricks.v1+cell": {
     "cellMetadata": {
      "byteLimit": 2048000,
      "rowLimit": 10000
     },
     "inputWidgets": {},
     "nuid": "ee6507a9-03b7-43e5-b23b-7e19c3f8cf85",
     "showTitle": false,
     "tableResultSettingsMap": {},
     "title": ""
    }
   },
   "outputs": [],
   "source": [
    "def display_mermaid_diagram(diagram: str) -> None:\n",
    "    html = f\"\"\"\n",
    "    <!DOCTYPE html>\n",
    "    <html>\n",
    "    <head>\n",
    "        <script type=\"module\">\n",
    "            import mermaid from 'https://cdn.jsdelivr.net/npm/mermaid@10/dist/mermaid.esm.min.mjs';\n",
    "            mermaid.initialize({{ startOnLoad: true }});\n",
    "            \n",
    "            document.addEventListener(\"DOMContentLoaded\", () => {{\n",
    "                setTimeout(() => {{\n",
    "                    const svgElement = document.querySelector('.mermaid svg');\n",
    "                    if (svgElement) {{\n",
    "                        const serializer = new XMLSerializer();\n",
    "                        const svgBlob = new Blob([serializer.serializeToString(svgElement)], {{ type: \"image/svg+xml\" }});\n",
    "                        const svgUrl = URL.createObjectURL(svgBlob);\n",
    "                        const downloadLink = document.getElementById(\"download-svg\");\n",
    "                        downloadLink.href = svgUrl;\n",
    "                        downloadLink.download = \"diagram.svg\";\n",
    "                        downloadLink.style.display = \"inline-block\";\n",
    "                    }}\n",
    "                }}, 1000); // Wait for rendering\n",
    "            }});\n",
    "        </script>\n",
    "        <style>\n",
    "            body {{ background-color: white; text-align: center; font-family: Arial, sans-serif; }}\n",
    "            #download-svg {{ \n",
    "                display: none; \n",
    "                margin-top: 10px; \n",
    "                padding: 10px 15px; \n",
    "                font-size: 16px; \n",
    "                background-color: #4CAF50; \n",
    "                color: white; \n",
    "                border: none; \n",
    "                cursor: pointer; \n",
    "                text-decoration: none;\n",
    "                border-radius: 5px;\n",
    "            }}\n",
    "        </style>\n",
    "    </head>\n",
    "    <body>\n",
    "        <div class=\"mermaid\">{diagram}</div>\n",
    "        <br>\n",
    "        <a id=\"download-svg\">Download SVG</a>\n",
    "    </body>\n",
    "    </html>\n",
    "    \"\"\"\n",
    "    display(HTML(html))"
   ]
  },
  {
   "cell_type": "code",
   "execution_count": 0,
   "metadata": {
    "application/vnd.databricks.v1+cell": {
     "cellMetadata": {
      "byteLimit": 2048000,
      "rowLimit": 10000
     },
     "inputWidgets": {},
     "nuid": "9bc5a48f-aa39-4eaa-9a5c-443ef43d3c29",
     "showTitle": false,
     "tableResultSettingsMap": {},
     "title": ""
    }
   },
   "outputs": [],
   "source": [
    "def read_mmd_file(file_path: str) -> str:\n",
    "    try:\n",
    "        with open(file_path, \"r\", encoding=\"utf-8\") as file:\n",
    "            return file.read()\n",
    "    except FileNotFoundError:\n",
    "        print(f\"Error: The file '{file_path}' was not found.\")\n",
    "        return None\n",
    "    except Exception as e:\n",
    "        print(f\"An error occurred: {e}\")\n",
    "        return None"
   ]
  },
  {
   "cell_type": "code",
   "execution_count": 0,
   "metadata": {
    "application/vnd.databricks.v1+cell": {
     "cellMetadata": {
      "byteLimit": 2048000,
      "rowLimit": 10000
     },
     "inputWidgets": {},
     "nuid": "4e76c5a8-ee25-4ccf-a834-a705e4574b70",
     "showTitle": false,
     "tableResultSettingsMap": {},
     "title": ""
    }
   },
   "outputs": [],
   "source": [
    "if __name__ == \"__main__\":\n",
    "    file_path = \"spam_ham_detection_sequence_diagram.mmd\"\n",
    "    sequence_diagram = read_mmd_file(file_path=file_path)\n",
    "\n",
    "    display_mermaid_diagram(diagram=sequence_diagram)"
   ]
  }
 ],
 "metadata": {
  "application/vnd.databricks.v1+notebook": {
   "computePreferences": null,
   "dashboards": [],
   "environmentMetadata": {
    "base_environment": "",
    "environment_version": "2"
   },
   "language": "python",
   "notebookMetadata": {
    "pythonIndentUnit": 4
   },
   "notebookName": "display_documentation",
   "widgets": {}
  },
  "language_info": {
   "name": "python"
  }
 },
 "nbformat": 4,
 "nbformat_minor": 0
}
