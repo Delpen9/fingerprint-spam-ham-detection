{
 "cells": [
  {
   "cell_type": "code",
   "execution_count": 0,
   "metadata": {
    "application/vnd.databricks.v1+cell": {
     "cellMetadata": {
      "byteLimit": 2048000,
      "rowLimit": 10000
     },
     "inputWidgets": {},
     "nuid": "d0f38c9a-d770-4868-8b98-a2da3180d5d0",
     "showTitle": false,
     "tableResultSettingsMap": {},
     "title": ""
    }
   },
   "outputs": [],
   "source": [
    "%pip install mermaid-py"
   ]
  },
  {
   "cell_type": "code",
   "execution_count": 0,
   "metadata": {
    "application/vnd.databricks.v1+cell": {
     "cellMetadata": {
      "byteLimit": 2048000,
      "rowLimit": 10000
     },
     "inputWidgets": {},
     "nuid": "98555c8f-14ec-40d1-9cea-93a846930320",
     "showTitle": false,
     "tableResultSettingsMap": {},
     "title": ""
    }
   },
   "outputs": [],
   "source": [
    "import pandas as pd\n",
    "import numpy as np\n",
    "import mermaid as md\n",
    "\n",
    "from IPython.core.display import display, HTML"
   ]
  },
  {
   "cell_type": "code",
   "execution_count": 0,
   "metadata": {
    "application/vnd.databricks.v1+cell": {
     "cellMetadata": {
      "byteLimit": 2048000,
      "rowLimit": 10000
     },
     "inputWidgets": {},
     "nuid": "ee6507a9-03b7-43e5-b23b-7e19c3f8cf85",
     "showTitle": false,
     "tableResultSettingsMap": {},
     "title": ""
    }
   },
   "outputs": [],
   "source": [
    "def display_mermaid_diagram(diagram: str) -> None:\n",
    "    html = f\"\"\"\n",
    "    <!DOCTYPE html>\n",
    "    <html>\n",
    "    <head>\n",
    "        <script type=\"module\">\n",
    "            import mermaid from 'https://cdn.jsdelivr.net/npm/mermaid@10/dist/mermaid.esm.min.mjs';\n",
    "            mermaid.initialize({{ startOnLoad: true }});\n",
    "\n",
    "            document.addEventListener(\"DOMContentLoaded\", () => {{\n",
    "                setTimeout(() => generateHighQualityJPEG(), 1500); // Wait for Mermaid rendering\n",
    "            }});\n",
    "\n",
    "            function generateHighQualityJPEG() {{\n",
    "                const svgElement = document.querySelector('.mermaid svg');\n",
    "                if (!svgElement) return;\n",
    "\n",
    "                const serializer = new XMLSerializer();\n",
    "                const svgString = serializer.serializeToString(svgElement);\n",
    "                \n",
    "                // Convert SVG string to Data URL\n",
    "                const svgDataUrl = \"data:image/svg+xml;charset=utf-8,\" + encodeURIComponent(svgString);\n",
    "                \n",
    "                const img = new Image();\n",
    "                img.onload = function() {{\n",
    "                    const scaleFactor = 3; // High-resolution scaling factor\n",
    "                    const canvas = document.createElement(\"canvas\");\n",
    "                    const width = svgElement.clientWidth * scaleFactor;\n",
    "                    const height = svgElement.clientHeight * scaleFactor;\n",
    "                    canvas.width = width;\n",
    "                    canvas.height = height;\n",
    "                    \n",
    "                    const context = canvas.getContext(\"2d\");\n",
    "                    context.fillStyle = \"white\"; // Ensure background is white\n",
    "                    context.fillRect(0, 0, canvas.width, canvas.height);\n",
    "                    context.drawImage(img, 0, 0, width, height); // Scale image to high resolution\n",
    "\n",
    "                    // Convert to high-quality JPEG\n",
    "                    const jpegUrl = canvas.toDataURL(\"image/jpeg\", 0.95); // 95% quality\n",
    "                    const downloadLink = document.getElementById(\"download-jpeg\");\n",
    "                    downloadLink.href = jpegUrl;\n",
    "                    downloadLink.download = \"high_quality_diagram.jpeg\";\n",
    "                    downloadLink.style.display = \"inline-block\";\n",
    "                }};\n",
    "                img.src = svgDataUrl;\n",
    "            }}\n",
    "        </script>\n",
    "        <style>\n",
    "            body {{\n",
    "                background-color: white;\n",
    "                text-align: center;\n",
    "                font-family: 'Arial', sans-serif;\n",
    "                margin: 0;\n",
    "                padding: 20px;\n",
    "            }}\n",
    "            .diagram-container {{\n",
    "                display: flex;\n",
    "                justify-content: center;\n",
    "                align-items: center;\n",
    "                padding: 20px;\n",
    "            }}\n",
    "            #download-jpeg {{\n",
    "                display: none;\n",
    "                margin-top: 15px;\n",
    "                padding: 12px 18px;\n",
    "                font-size: 16px;\n",
    "                font-weight: bold;\n",
    "                background-color: #4CAF50;\n",
    "                color: white;\n",
    "                border: none;\n",
    "                cursor: pointer;\n",
    "                text-decoration: none;\n",
    "                border-radius: 6px;\n",
    "                transition: background-color 0.3s ease;\n",
    "            }}\n",
    "            #download-jpeg:hover {{\n",
    "                background-color: #45a049;\n",
    "            }}\n",
    "        </style>\n",
    "    </head>\n",
    "    <body>\n",
    "        <h2>Mermaid Diagram Viewer</h2>\n",
    "        <div class=\"diagram-container\">\n",
    "            <div class=\"mermaid\">{diagram}</div>\n",
    "        </div>\n",
    "        <a id=\"download-jpeg\">Download High-Quality JPEG</a>\n",
    "    </body>\n",
    "    </html>\n",
    "    \"\"\"\n",
    "    from IPython.display import HTML, display\n",
    "    display(HTML(html))"
   ]
  },
  {
   "cell_type": "code",
   "execution_count": 0,
   "metadata": {
    "application/vnd.databricks.v1+cell": {
     "cellMetadata": {
      "byteLimit": 2048000,
      "rowLimit": 10000
     },
     "inputWidgets": {},
     "nuid": "9bc5a48f-aa39-4eaa-9a5c-443ef43d3c29",
     "showTitle": false,
     "tableResultSettingsMap": {},
     "title": ""
    }
   },
   "outputs": [],
   "source": [
    "def read_mmd_file(file_path: str) -> str:\n",
    "    try:\n",
    "        with open(file_path, \"r\", encoding=\"utf-8\") as file:\n",
    "            return file.read()\n",
    "    except FileNotFoundError:\n",
    "        print(f\"Error: The file '{file_path}' was not found.\")\n",
    "        return None\n",
    "    except Exception as e:\n",
    "        print(f\"An error occurred: {e}\")\n",
    "        return None"
   ]
  },
  {
   "cell_type": "code",
   "execution_count": 0,
   "metadata": {
    "application/vnd.databricks.v1+cell": {
     "cellMetadata": {
      "byteLimit": 2048000,
      "rowLimit": 10000
     },
     "inputWidgets": {},
     "nuid": "4e76c5a8-ee25-4ccf-a834-a705e4574b70",
     "showTitle": false,
     "tableResultSettingsMap": {},
     "title": ""
    }
   },
   "outputs": [],
   "source": [
    "if __name__ == \"__main__\":\n",
    "    # file_path = \"spam_ham_detection_sequence_diagram.mmd\"\n",
    "    # sequence_diagram = read_mmd_file(file_path=file_path)\n",
    "\n",
    "    # display_mermaid_diagram(diagram=sequence_diagram)\n",
    "\n",
    "    file_path = \"spam_ham_detection_flowchart_diagram.mmd\"\n",
    "    sequence_diagram = read_mmd_file(file_path=file_path)\n",
    "\n",
    "    display_mermaid_diagram(diagram=sequence_diagram)"
   ]
  }
 ],
 "metadata": {
  "application/vnd.databricks.v1+notebook": {
   "computePreferences": null,
   "dashboards": [],
   "environmentMetadata": {
    "base_environment": "",
    "environment_version": "2"
   },
   "language": "python",
   "notebookMetadata": {
    "pythonIndentUnit": 4
   },
   "notebookName": "display_documentation",
   "widgets": {}
  },
  "language_info": {
   "name": "python"
  }
 },
 "nbformat": 4,
 "nbformat_minor": 0
}
